{
 "cells": [
  {
   "cell_type": "code",
   "execution_count": 2,
   "id": "921bbc76",
   "metadata": {},
   "outputs": [
    {
     "name": "stdout",
     "output_type": "stream",
     "text": [
      "[Node with value 1]\n",
      "[Node with value 2]\n",
      "[Node with value 3]\n",
      "[Node with value Внезапно]\n",
      "[Node with value 5]\n",
      "---\n",
      "[Node with value 5]\n",
      "[Node with value Внезапно]\n",
      "[Node with value 3]\n",
      "[Node with value 2]\n",
      "[Node with value 1]\n"
     ]
    }
   ],
   "source": [
    "#Задание 1.1\n",
    "class Node:\n",
    "    def __init__(self, value=None):\n",
    "        self.value = value\n",
    "        self.next = None\n",
    "\n",
    "def print_linked_list(head):\n",
    "    # Функция для печати значений элементов связанного списка\n",
    "    current = head\n",
    "    while current:\n",
    "        print(f\"[Node with value {current.value}]\")\n",
    "        current = current.next\n",
    "\n",
    "def reverse_linked_list(head):\n",
    "    # Функция для обращения связанного списка\n",
    "    if not head or not head.next:\n",
    "        return head\n",
    "    \n",
    "    prev = None\n",
    "    current = head\n",
    "    while current:\n",
    "        temp = current.next\n",
    "        current.next = prev\n",
    "        prev = current\n",
    "        current = temp\n",
    "    \n",
    "    return prev\n",
    "\n",
    "# Пример использования\n",
    "h = Node(1)\n",
    "h.next = Node(2)\n",
    "h.next.next = Node(3)\n",
    "h.next.next.next = Node(\"Внезапно\")\n",
    "h.next.next.next.next = Node(5)\n",
    "\n",
    "print_linked_list(h)\n",
    "h = reverse_linked_list(h)\n",
    "print(\"---\")\n",
    "print_linked_list(h)"
   ]
  },
  {
   "cell_type": "code",
   "execution_count": 3,
   "id": "571462f6",
   "metadata": {},
   "outputs": [
    {
     "name": "stdout",
     "output_type": "stream",
     "text": [
      "0 1 1 2 2 4 "
     ]
    }
   ],
   "source": [
    "#Задание 1.2\n",
    "class Node:\n",
    "    def __init__(self, data):\n",
    "        self.data = data\n",
    "        self.next = None\n",
    "\n",
    "def bubble_sort_linked_list(head):\n",
    "    if not head:\n",
    "        return None\n",
    "    \n",
    "    def swap(node1, node2):\n",
    "        node1.data, node2.data = node2.data, node1.data\n",
    "    \n",
    "    current = head\n",
    "    while current:\n",
    "        pointer = current.next\n",
    "        while pointer:\n",
    "            if current.data > pointer.data:\n",
    "                swap(current, pointer)\n",
    "            pointer = pointer.next\n",
    "        current = current.next\n",
    "    \n",
    "    return head\n",
    "\n",
    "# Пример использования:\n",
    "head = Node(2)\n",
    "head.next = Node(4)\n",
    "head.next.next = Node(1)\n",
    "head.next.next.next = Node(1)\n",
    "head.next.next.next.next = Node(2)\n",
    "head.next.next.next.next.next = Node(0)\n",
    "\n",
    "new_head = bubble_sort_linked_list(head)\n",
    "\n",
    "current = new_head\n",
    "while current:\n",
    "    print(current.data, end=\" \")\n",
    "    current = current.next\n"
   ]
  },
  {
   "cell_type": "code",
   "execution_count": 7,
   "id": "1389422b",
   "metadata": {},
   "outputs": [
    {
     "name": "stdout",
     "output_type": "stream",
     "text": [
      "Средний полный счет по пятницам на ланч у курящих мужчин: 20.4525\n"
     ]
    }
   ],
   "source": [
    "#Задание 3.3.1\n",
    "import pandas as pd\n",
    "\n",
    "# Загружаем датасет\n",
    "df = pd.read_csv('https://raw.githubusercontent.com/HerrEnot/MISIS_2023/main/season_2/data/tips.csv')\n",
    "\n",
    "# Фильтруем данные по курящим мужчинам в пятницу\n",
    "friday_lunch = df[(df['day'] == 'Fri') & (df['sex'] == 'Male') & (df['smoker'] == 'Yes')]\n",
    "\n",
    "# Вычисляем средний полный счет\n",
    "average_total_bill = friday_lunch['total_bill'].mean()\n",
    "\n",
    "print(f'Средний полный счет по пятницам на ланч у курящих мужчин: {average_total_bill}')\n"
   ]
  },
  {
   "cell_type": "code",
   "execution_count": 32,
   "id": "4ed1f508",
   "metadata": {},
   "outputs": [
    {
     "name": "stdout",
     "output_type": "stream",
     "text": [
      "Setosa\n",
      "       SepalLength  SepalWidth  PetalLength  PetalWidth\n",
      "count     50.00000   50.000000    50.000000    50.00000\n",
      "mean       5.00600    3.418000     1.464000     0.24400\n",
      "std        0.35249    0.381024     0.173511     0.10721\n",
      "min        4.30000    2.300000     1.000000     0.10000\n",
      "25%        4.80000    3.125000     1.400000     0.20000\n",
      "50%        5.00000    3.400000     1.500000     0.20000\n",
      "75%        5.20000    3.675000     1.575000     0.30000\n",
      "max        5.80000    4.400000     1.900000     0.60000\n",
      "\n",
      "Virginica\n",
      "       SepalLength  SepalWidth  PetalLength  PetalWidth\n",
      "count     50.00000   50.000000    50.000000    50.00000\n",
      "mean       6.58800    2.974000     5.552000     2.02600\n",
      "std        0.63588    0.322497     0.551895     0.27465\n",
      "min        4.90000    2.200000     4.500000     1.40000\n",
      "25%        6.22500    2.800000     5.100000     1.80000\n",
      "50%        6.50000    3.000000     5.550000     2.00000\n",
      "75%        6.90000    3.175000     5.875000     2.30000\n",
      "max        7.90000    3.800000     6.900000     2.50000\n",
      "\n",
      "Versicolor\n",
      "       SepalLength  SepalWidth  PetalLength  PetalWidth\n",
      "count    50.000000   50.000000    50.000000   50.000000\n",
      "mean      5.936000    2.770000     4.260000    1.326000\n",
      "std       0.516171    0.313798     0.469911    0.197753\n",
      "min       4.900000    2.000000     3.000000    1.000000\n",
      "25%       5.600000    2.525000     4.000000    1.200000\n",
      "50%       5.900000    2.800000     4.350000    1.300000\n",
      "75%       6.300000    3.000000     4.600000    1.500000\n",
      "max       7.000000    3.400000     5.100000    1.800000\n",
      "\n"
     ]
    }
   ],
   "source": [
    "#Задание 3.3.2\n",
    "import pandas as pd\n",
    "\n",
    "# Загрузка датасета iris\n",
    "df = pd.read_csv('C:/Users/79689/Desktop/Python/iris.csv')\n",
    "\n",
    "df_setosa = df.loc[df[\"Name\"] == \"Iris-setosa\"]\n",
    "df_virginica = df.loc[df[\"Name\"] == \"Iris-virginica\"]\n",
    "df_versicolor = df.loc[df[\"Name\"] == \"Iris-versicolor\"]\n",
    "\n",
    "print(f\"Setosa\\n{df_setosa.describe()}\\n\")\n",
    "print(f\"Virginica\\n{df_virginica.describe()}\\n\")\n",
    "print(f\"Versicolor\\n{df_versicolor.describe()}\\n\")"
   ]
  },
  {
   "cell_type": "code",
   "execution_count": 22,
   "id": "345a5cd6",
   "metadata": {},
   "outputs": [
    {
     "name": "stdout",
     "output_type": "stream",
     "text": [
      "       Страна  Население    square   density\n",
      "0  Kazakhstan      17.04   2724902  0.000006\n",
      "1      Russia     143.50  17125191  0.000008\n",
      "2     Belarus       9.50    207600  0.000046\n",
      "3     Ukraine      45.50    603628  0.000075\n"
     ]
    }
   ],
   "source": [
    "#Задание 3.3.3\n",
    "import pandas as pd\n",
    "\n",
    "df = pd.DataFrame({\n",
    "     'country': ['Kazakhstan', 'Russia', 'Belarus', 'Ukraine'],\n",
    "     'population': [17.04, 143.5, 9.5, 45.5],\n",
    "     'square': [2724902, 17125191, 207600, 603628]\n",
    " })\n",
    "\n",
    "# Добавляем новый столбец 'density' с плотностью населения\n",
    "df['density'] = df['population'] / df['square']\n",
    "\n",
    "# Переименовываем названия столбцов\n",
    "df = df.rename(columns={'country': 'Страна', 'population': 'Население'})\n",
    "\n",
    "print(df)\n"
   ]
  },
  {
   "cell_type": "code",
   "execution_count": null,
   "id": "fc49302e",
   "metadata": {},
   "outputs": [],
   "source": []
  }
 ],
 "metadata": {
  "kernelspec": {
   "display_name": "Python 3 (ipykernel)",
   "language": "python",
   "name": "python3"
  },
  "language_info": {
   "codemirror_mode": {
    "name": "ipython",
    "version": 3
   },
   "file_extension": ".py",
   "mimetype": "text/x-python",
   "name": "python",
   "nbconvert_exporter": "python",
   "pygments_lexer": "ipython3",
   "version": "3.11.5"
  }
 },
 "nbformat": 4,
 "nbformat_minor": 5
}
